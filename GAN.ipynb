{
 "cells": [
  {
   "cell_type": "markdown",
   "metadata": {},
   "source": [
    "# 1. IMPORTS"
   ]
  },
  {
   "cell_type": "code",
   "execution_count": 31,
   "metadata": {},
   "outputs": [],
   "source": [
    "# misc libraries\n",
    "import random\n",
    "import numpy as np\n",
    "import pandas as pd\n",
    "import matplotlib.pyplot as plt\n",
    "import seaborn as sns\n",
    "\n",
    "# sklearn classes\n",
    "from sklearn.pipeline import make_pipeline\n",
    "from sklearn.preprocessing import StandardScaler, MinMaxScaler, RobustScaler, PowerTransformer\n",
    "from sklearn.model_selection import train_test_split, cross_val_score, GridSearchCV\n",
    "from sklearn.ensemble import RandomForestClassifier\n",
    "from sklearn.linear_model import SGDClassifier\n",
    "from sklearn.metrics import classification_report, confusion_matrix, ConfusionMatrixDisplay\n",
    "\n",
    "# Distribution matching class\n",
    "import tensorflow as tf\n",
    "from tensorflow.keras import optimizers, models\n",
    "from tensorflow.keras.models import Model\n",
    "from tensorflow.keras.layers import Input, Flatten, LeakyReLU, Dropout, Dense, Conv2DTranspose, Reshape"
   ]
  },
  {
   "cell_type": "code",
   "execution_count": 32,
   "metadata": {},
   "outputs": [],
   "source": [
    "tf.keras.backend.clear_session()"
   ]
  },
  {
   "cell_type": "markdown",
   "metadata": {},
   "source": [
    "# 2. Dataset generation"
   ]
  },
  {
   "cell_type": "markdown",
   "metadata": {},
   "source": [
    "## Constant and functions"
   ]
  },
  {
   "cell_type": "code",
   "execution_count": 33,
   "metadata": {},
   "outputs": [],
   "source": [
    "ROOT_DIR= '/mnt/d/NOTES-ARCHIVE/PROJECT3/Code/Dataset_distilled'\n",
    "LABELS= [\"Benign\",\"Bruteforce\",\"Dos/DDos\",\"Mirai\",\"Recon\",\"Spoofing\",\"Web-based\"]"
   ]
  },
  {
   "cell_type": "code",
   "execution_count": 34,
   "metadata": {},
   "outputs": [],
   "source": [
    "single_value_cols = []\n",
    "def is_unique(s):                           #   This runs in O(n) compared to O(n log n) nunique() method\n",
    "    a = s.to_numpy() \n",
    "    return (a[0] == a).all()"
   ]
  },
  {
   "cell_type": "markdown",
   "metadata": {},
   "source": [
    "## Loading and dropping column with single-value"
   ]
  },
  {
   "cell_type": "code",
   "execution_count": 35,
   "metadata": {},
   "outputs": [],
   "source": [
    "df = pd.read_csv(f'{ROOT_DIR}/dataset.csv')"
   ]
  },
  {
   "cell_type": "code",
   "execution_count": 36,
   "metadata": {},
   "outputs": [],
   "source": [
    "for i in df.columns:\n",
    "    if(is_unique(df[i])):\n",
    "        single_value_cols.append(i)\n",
    "df.drop(single_value_cols,axis=1, inplace=True) "
   ]
  },
  {
   "cell_type": "code",
   "execution_count": null,
   "metadata": {},
   "outputs": [],
   "source": [
    "# Display the detailed correlation matrix.\n",
    "corr = df.iloc[:,:-1].corr().abs()\n",
    "plt.figure(figsize=(20, 20))\n",
    "sns.heatmap(corr, annot=True, fmt=\".1f\", cmap=\"YlGnBu\")"
   ]
  },
  {
   "cell_type": "code",
   "execution_count": null,
   "metadata": {},
   "outputs": [],
   "source": [
    "# Display number of columns\n",
    "num_columns = df.shape[1]\n",
    "\n",
    "# Output the number of columns\n",
    "print(f\"The number of columns in the DataFrame is: {num_columns}\")"
   ]
  },
  {
   "cell_type": "markdown",
   "metadata": {},
   "source": [
    "## Dataset stat"
   ]
  },
  {
   "cell_type": "code",
   "execution_count": null,
   "metadata": {},
   "outputs": [],
   "source": [
    "# Display the original class distribution\n",
    "print(df['class'].value_counts(ascending=True))"
   ]
  },
  {
   "cell_type": "code",
   "execution_count": 40,
   "metadata": {},
   "outputs": [],
   "source": [
    "sub_df = df  \n",
    "\n",
    "# remove nan, inf, -inf value\n",
    "sub_df = sub_df[~sub_df.isin([np.nan, np.inf, -np.inf]).any(axis=1)] "
   ]
  },
  {
   "cell_type": "code",
   "execution_count": 41,
   "metadata": {},
   "outputs": [],
   "source": [
    "X = sub_df.iloc[:,:-1]\n",
    "Y = sub_df.iloc[:,-1]"
   ]
  },
  {
   "cell_type": "markdown",
   "metadata": {},
   "source": [
    "## Data-scaling"
   ]
  },
  {
   "cell_type": "code",
   "execution_count": 42,
   "metadata": {},
   "outputs": [],
   "source": [
    "scaler = MinMaxScaler(feature_range=(0, 1))\n",
    "# Fit the scaler on the training data and transform both train and test sets\n",
    "X_train_scaled = scaler.fit_transform(X)"
   ]
  },
  {
   "cell_type": "code",
   "execution_count": 43,
   "metadata": {},
   "outputs": [],
   "source": [
    "# df = scaling_data(sub_df)"
   ]
  },
  {
   "cell_type": "code",
   "execution_count": null,
   "metadata": {},
   "outputs": [],
   "source": [
    "# Print the first sample in X_train_scaled\n",
    "print(\"Sample from X_train_scaled:\")\n",
    "print(X_train_scaled[0])"
   ]
  },
  {
   "cell_type": "markdown",
   "metadata": {},
   "source": [
    "# 3. GAN:\n"
   ]
  },
  {
   "cell_type": "markdown",
   "metadata": {},
   "source": [
    "## Discriminator"
   ]
  },
  {
   "cell_type": "code",
   "execution_count": 45,
   "metadata": {},
   "outputs": [],
   "source": [
    "def _discriminator():\n",
    "    # Define the layers\n",
    "    inpt = Input(shape=(39,),name = \"Input\")  # Input shape for (1, 39) row vector\n",
    "    flat = Flatten()(inpt)       # Flatten the input to (39,)\n",
    "    dense1 = Dense(64)(flat)     # Dense layer with 64 units\n",
    "    act_leak1 = LeakyReLU(negative_slope=0.3)(dense1)  # Leaky ReLU activation\n",
    "    dropout1 = Dropout(0.4)(act_leak1)        # Dropout for regularization\n",
    "    dense2 = Dense(32)(dropout1)              # Another Dense layer with 32 units\n",
    "    act_leak2 = LeakyReLU(negative_slope=0.3)(dense2)  # Leaky ReLU activation\n",
    "    dropout2 = Dropout(0.4)(act_leak2)        # Dropout for regularization\n",
    "    output = Dense(1, activation='sigmoid')(dropout2)  # Output layer for binary classification\n",
    "\n",
    "    # Initialize the model\n",
    "    model = Model(inputs=[inpt], outputs=[output])\n",
    "    \n",
    "    # Compile the model\n",
    "    opt = optimizers.Adam(learning_rate=0.0002, beta_1=0.5)\n",
    "    model.compile(loss='binary_crossentropy', optimizer=opt, metrics=['accuracy'])\n",
    "    return model"
   ]
  },
  {
   "cell_type": "code",
   "execution_count": null,
   "metadata": {},
   "outputs": [],
   "source": [
    "# Create and plot the model\n",
    "discriminator = _discriminator()\n",
    "discriminator.name = \"Discriminator\"\n",
    "print(discriminator.summary())"
   ]
  },
  {
   "cell_type": "markdown",
   "metadata": {},
   "source": [
    "## Generator"
   ]
  },
  {
   "cell_type": "code",
   "execution_count": 47,
   "metadata": {},
   "outputs": [],
   "source": [
    "def _generator(noise_size=100):\n",
    "    # Define the input layer for random noise\n",
    "    inpt = Input(shape=(noise_size,))\n",
    "    \n",
    "    # First dense layer to expand the noise\n",
    "    den1 = Dense(128)(inpt)  # Expand to 128 units\n",
    "    act_leak1 = LeakyReLU(alpha=0.3)(den1)  # LeakyReLU activation\n",
    "    \n",
    "    # Second dense layer to prepare for the final output\n",
    "    den2 = Dense(64)(act_leak1)  # Further expansion\n",
    "    act_leak2 = LeakyReLU(alpha=0.3)(den2)\n",
    "    \n",
    "    # Final dense layer to match the desired output shape\n",
    "    output = Dense(39, activation='sigmoid')(act_leak2)  # Output a 1D vector of size 39\n",
    "    reshape = Reshape((39,))(output)  # Reshape to (1, 39)\n",
    "    \n",
    "    # Initialize the model\n",
    "    model = Model(inputs=[inpt], outputs=[reshape])\n",
    "    \n",
    "    # Compile the model\n",
    "    opt = optimizers.Adam(learning_rate=0.0002, beta_1=0.5)\n",
    "    model.compile(loss='binary_crossentropy', optimizer=opt, metrics=['accuracy'])\n",
    "    return model"
   ]
  },
  {
   "cell_type": "code",
   "execution_count": null,
   "metadata": {},
   "outputs": [],
   "source": [
    "# Create and plot the generator model\n",
    "generator = _generator(noise_size=100)\n",
    "generator.name = \"Generator\"\n",
    "print(generator.summary())"
   ]
  },
  {
   "cell_type": "markdown",
   "metadata": {},
   "source": [
    "## Compile GAN"
   ]
  },
  {
   "cell_type": "code",
   "execution_count": 49,
   "metadata": {},
   "outputs": [],
   "source": [
    "def _gan(g_model, d_model):\n",
    "  \n",
    "\td_model.trainable = False\n",
    "\t\n",
    "\tmodel = models.Sequential()\n",
    "\tmodel.add(g_model)\n",
    "\tmodel.add(d_model)\n",
    "\t# compile model\n",
    "\topt = optimizers.Adam(learning_rate=0.0002, beta_1=0.5)\n",
    "\tmodel.compile(loss='binary_crossentropy', optimizer=opt)\n",
    "\treturn model"
   ]
  },
  {
   "cell_type": "code",
   "execution_count": null,
   "metadata": {},
   "outputs": [],
   "source": [
    "latent_dim = 100\n",
    "# Khởi tạo GAN model\n",
    "gan_model = _gan(generator, discriminator)\n",
    "print(gan_model.summary())"
   ]
  },
  {
   "cell_type": "markdown",
   "metadata": {},
   "source": [
    "## Samples generation"
   ]
  },
  {
   "cell_type": "code",
   "execution_count": 21,
   "metadata": {},
   "outputs": [],
   "source": [
    "def generate_latent_points(latent_dim, n_samples):\n",
    "\t\n",
    "\tx_input = np.random.randn(latent_dim * n_samples)\n",
    "\t\n",
    "\tx_input = x_input.reshape(n_samples, latent_dim)\n",
    "\treturn x_input"
   ]
  },
  {
   "cell_type": "code",
   "execution_count": null,
   "metadata": {},
   "outputs": [],
   "source": [
    "latent_points = generate_latent_points(latent_dim, 128)\n",
    "print(\"Shape of latent points:\", latent_points.shape)\n"
   ]
  },
  {
   "cell_type": "code",
   "execution_count": 22,
   "metadata": {},
   "outputs": [],
   "source": [
    "def generate_fake_samples(g_model, latent_dim, n_samples):\n",
    "\t\n",
    "\tx_input = generate_latent_points(latent_dim, n_samples)\n",
    "\t\n",
    "\tX_fake = g_model.predict(x_input)\n",
    "\t\n",
    "\ty = np.zeros((n_samples, 1))\n",
    "\treturn X_fake, y"
   ]
  },
  {
   "cell_type": "code",
   "execution_count": 23,
   "metadata": {},
   "outputs": [],
   "source": [
    "def generate_real_samples(dataset, n_samples):\n",
    "\t\n",
    "\tix = np.random.randint(0, dataset.shape[0], n_samples)\n",
    "\t\n",
    "\tX_real = dataset[ix]\n",
    "\n",
    "\ty = np.ones((n_samples, 1))\n",
    "\treturn X_real, y"
   ]
  },
  {
   "cell_type": "markdown",
   "metadata": {},
   "source": [
    "## Train function"
   ]
  },
  {
   "cell_type": "code",
   "execution_count": 24,
   "metadata": {},
   "outputs": [],
   "source": [
    "def summarize_performance(epoch, gan_model, X_real, y_real, X_fake, y_fake):\n",
    "\t_, acc_real = gan_model.layers[1].evaluate(X_real, y_real, verbose=0)\n",
    "\t_, acc_fake = gan_model.layers[1].evaluate(X_fake, y_fake, verbose=0)\n",
    "\t# discriminator performance\n",
    "\tprint('>Accuracy real: %.0f%%, fake: %.0f%%' % (acc_real*100, acc_fake*100))\n"
   ]
  },
  {
   "cell_type": "code",
   "execution_count": 27,
   "metadata": {},
   "outputs": [],
   "source": [
    "def train(g_model, d_model, gan_model, dataset, latent_dim, n_epochs=100, n_batch=256, k=2):\n",
    "  bat_per_epo = int(dataset.shape[0] / n_batch)\n",
    "  half_batch = int(n_batch / 2)\n",
    " \n",
    "  for i in range(n_epochs):\n",
    "    for j in range(bat_per_epo):\n",
    "      if j % k == 0:\n",
    "     \n",
    "        gan_model.layers[0].trainable = False\n",
    "        gan_model.layers[1].trainable = True\n",
    "       \n",
    "\n",
    "        X_real, y_real = generate_real_samples(dataset, half_batch)\n",
    "        X_fake, y_fake = generate_fake_samples(gan_model.layers[0], latent_dim, half_batch)\n",
    "\n",
    "        print(X_real.shape, y_real.shape)\n",
    "        print(X_fake.shape, y_fake.shape)\n",
    "\n",
    "        X, y = np.vstack((X_real, X_fake)), np.vstack((y_real, y_fake))\n",
    "        d_loss, _ = gan_model.layers[1].train_on_batch(X, y)\n",
    "        print('>%d, %d/%d, d=%.3f' % (i+1, j+1, bat_per_epo, d_loss))\n",
    "      \n",
    "      \n",
    "      X_gan = generate_latent_points(latent_dim, n_batch)\n",
    "      y_gan = np.ones((n_batch, 1))\n",
    "      \n",
    "      gan_model.layers[0].trainable = True\n",
    "      gan_model.layers[1].trainable = False\n",
    "      g_loss = gan_model.train_on_batch(X_gan, y_gan)\n",
    "      # Loss function trên discriminator, generator\n",
    "      print('>%d, %d/%d, d=%.3f, g=%.3f' % (i+1, j+1, bat_per_epo, d_loss, g_loss))\n",
    "      # Đánh giá mô hình:\n",
    "      summarize_performance(j, gan_model, X_real, y_real, X_fake, y_fake)  "
   ]
  },
  {
   "cell_type": "markdown",
   "metadata": {},
   "source": [
    "# 4. Training GAN:\n"
   ]
  },
  {
   "cell_type": "code",
   "execution_count": null,
   "metadata": {},
   "outputs": [],
   "source": [
    "train(generator, discriminator, gan_model, X_train_scaled, latent_dim)\n"
   ]
  }
 ],
 "metadata": {
  "kernelspec": {
   "display_name": "tensorflow",
   "language": "python",
   "name": "python3"
  },
  "language_info": {
   "codemirror_mode": {
    "name": "ipython",
    "version": 3
   },
   "file_extension": ".py",
   "mimetype": "text/x-python",
   "name": "python",
   "nbconvert_exporter": "python",
   "pygments_lexer": "ipython3",
   "version": "3.10.12"
  }
 },
 "nbformat": 4,
 "nbformat_minor": 2
}
